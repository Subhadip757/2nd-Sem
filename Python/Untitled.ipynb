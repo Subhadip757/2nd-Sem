{
 "cells": [
  {
   "cell_type": "code",
   "execution_count": 3,
   "id": "ebdbd2c4-f0a3-4f0d-a9f2-c0d199817330",
   "metadata": {},
   "outputs": [
    {
     "name": "stdout",
     "output_type": "stream",
     "text": [
      "Welcome to LPU\n"
     ]
    }
   ],
   "source": [
    "print(\"Welcome to LPU\")"
   ]
  },
  {
   "cell_type": "code",
   "execution_count": 25,
   "id": "ab3c1f51-54aa-47cd-b80c-2d626eb1bb22",
   "metadata": {},
   "outputs": [
    {
     "name": "stdout",
     "output_type": "stream",
     "text": [
      "Name:    Subhadip\n",
      "Roll No: 55\n",
      "________________\n",
      "Course:  MCA\n",
      "Section: 2020\n",
      "________________\n",
      "Address: Bengal\n",
      "Pincode: 712103\n",
      "Mobile:  123\n"
     ]
    }
   ],
   "source": [
    "print(\"Name:    Subhadip\")\n",
    "print(\"Roll No: 55\")\n",
    "print(\"________________\")\n",
    "print(\"Course:  MCA\")\n",
    "print(\"Section: 2020\")\n",
    "print(\"________________\")\n",
    "print(\"Address: Bengal\")\n",
    "print(\"Pincode: 712103\")\n",
    "print(\"Mobile:  123\")"
   ]
  },
  {
   "cell_type": "code",
   "execution_count": 27,
   "id": "fdb747fd-3ebf-4a1f-b0e5-4f035f932299",
   "metadata": {},
   "outputs": [
    {
     "name": "stdout",
     "output_type": "stream",
     "text": [
      "3.12.7 | packaged by Anaconda, Inc. | (main, Oct  4 2024, 08:22:19) [Clang 14.0.6 ]\n"
     ]
    }
   ],
   "source": [
    "import sys\n",
    "print(sys.version)"
   ]
  },
  {
   "cell_type": "code",
   "execution_count": 31,
   "id": "5f4e314f-6522-472d-af94-a20ff1fda6ea",
   "metadata": {},
   "outputs": [
    {
     "ename": "IndentationError",
     "evalue": "expected an indented block after 'else' statement on line 3 (3724705521.py, line 4)",
     "output_type": "error",
     "traceback": [
      "\u001b[0;36m  Cell \u001b[0;32mIn[31], line 4\u001b[0;36m\u001b[0m\n\u001b[0;31m    print(\"h\")\u001b[0m\n\u001b[0m    ^\u001b[0m\n\u001b[0;31mIndentationError\u001b[0m\u001b[0;31m:\u001b[0m expected an indented block after 'else' statement on line 3\n"
     ]
    }
   ],
   "source": [
    "if 5 > 2:\n",
    "    print(\"Greater\")\n",
    "else:\n",
    "print(\"h\")"
   ]
  },
  {
   "cell_type": "code",
   "execution_count": 33,
   "id": "ac7fc186-ab8d-44ef-861e-b63c386b274b",
   "metadata": {},
   "outputs": [
    {
     "ename": "IndentationError",
     "evalue": "unexpected indent (3764968548.py, line 3)",
     "output_type": "error",
     "traceback": [
      "\u001b[0;36m  Cell \u001b[0;32mIn[33], line 3\u001b[0;36m\u001b[0m\n\u001b[0;31m    print(\"u\")\u001b[0m\n\u001b[0m    ^\u001b[0m\n\u001b[0;31mIndentationError\u001b[0m\u001b[0;31m:\u001b[0m unexpected indent\n"
     ]
    }
   ],
   "source": [
    "if 5 > 2:\n",
    "    print(\"l\")\n",
    "        print(\"u\")"
   ]
  },
  {
   "cell_type": "code",
   "execution_count": 43,
   "id": "2bb89d02-4d8d-4edf-8e02-145a76bfd342",
   "metadata": {},
   "outputs": [
    {
     "name": "stdin",
     "output_type": "stream",
     "text": [
      "Enter age:  3\n"
     ]
    },
    {
     "name": "stdout",
     "output_type": "stream",
     "text": [
      "Free Entry\n"
     ]
    }
   ],
   "source": [
    "age = int(input(\"Enter age: \"))\n",
    "if(age <= 3):\n",
    "    print(\"Free Entry\")\n",
    "elif (age > 3 & age <= 12):\n",
    "    print(\"Child Ticket: Rs 250\")\n",
    "else:\n",
    "    print(\"Adult Ticket: Rs 500\")"
   ]
  },
  {
   "cell_type": "code",
   "execution_count": 45,
   "id": "bca1c66b-4775-401d-943d-f03167757141",
   "metadata": {},
   "outputs": [
    {
     "name": "stdout",
     "output_type": "stream",
     "text": [
      "h\n"
     ]
    }
   ],
   "source": [
    "#This is a comment\n",
    "print(\"h\")"
   ]
  },
  {
   "cell_type": "code",
   "execution_count": 47,
   "id": "667913db-56fd-4750-8537-0c0e5a25fece",
   "metadata": {},
   "outputs": [
    {
     "name": "stdout",
     "output_type": "stream",
     "text": [
      "Hello\n"
     ]
    }
   ],
   "source": [
    "\"\"\"Hello World\"\"\"\n",
    "print(\"Hello\")"
   ]
  },
  {
   "cell_type": "code",
   "execution_count": 51,
   "id": "8e60fc29-9308-49e6-8b41-e2724e2f2ee5",
   "metadata": {},
   "outputs": [
    {
     "name": "stdout",
     "output_type": "stream",
     "text": [
      "20\n",
      "Subhadip\n"
     ]
    }
   ],
   "source": [
    "age = 20\n",
    "name = \"Subhadip\"\n",
    "print(age)\n",
    "print(name)"
   ]
  },
  {
   "cell_type": "code",
   "execution_count": 55,
   "id": "b4ad1db6-6b25-41cf-9d43-2aab2ccd7630",
   "metadata": {},
   "outputs": [
    {
     "name": "stdout",
     "output_type": "stream",
     "text": [
      "3 4 5.0\n"
     ]
    }
   ],
   "source": [
    "x = str(3)\n",
    "y = int(4)\n",
    "z = float(5)\n",
    "print(x,y,z)"
   ]
  },
  {
   "cell_type": "code",
   "execution_count": 61,
   "id": "e45ecf8f-99bb-44f0-a725-27e777384a81",
   "metadata": {},
   "outputs": [
    {
     "name": "stdout",
     "output_type": "stream",
     "text": [
      "<class 'str'>\n",
      "<class 'int'>\n",
      "<class 'float'>\n"
     ]
    }
   ],
   "source": [
    "print(type(x))\n",
    "print(type(y))\n",
    "print(type(z))"
   ]
  },
  {
   "cell_type": "code",
   "execution_count": 63,
   "id": "5f106ff3-0b48-4bcd-a7a6-6bb8fc7a74be",
   "metadata": {},
   "outputs": [
    {
     "name": "stdout",
     "output_type": "stream",
     "text": [
      "subha\n"
     ]
    }
   ],
   "source": [
    "name = \"subha\"\n",
    "name = 'subha'\n",
    "print(name)"
   ]
  },
  {
   "cell_type": "code",
   "execution_count": 69,
   "id": "5cc1c9d3-075c-4ad4-a34f-033e7bb8bef7",
   "metadata": {},
   "outputs": [
    {
     "name": "stdout",
     "output_type": "stream",
     "text": [
      "4 Su\n"
     ]
    }
   ],
   "source": [
    "b = 4\n",
    "B = \"Su\"\n",
    "print(b, B)"
   ]
  },
  {
   "cell_type": "code",
   "execution_count": 73,
   "id": "9665fdbd-8aed-47ae-bc48-8baf7ca8aba3",
   "metadata": {},
   "outputs": [
    {
     "name": "stdout",
     "output_type": "stream",
     "text": [
      "Oranges Mangos Apple\n"
     ]
    }
   ],
   "source": [
    "x,y,z = \"Oranges\", \"Mangos\", \"Apple\"\n",
    "print(x,y,z)"
   ]
  },
  {
   "cell_type": "code",
   "execution_count": 71,
   "id": "228b6bd8-9692-4e86-ac85-4a5c0c8234c0",
   "metadata": {},
   "outputs": [
    {
     "name": "stdout",
     "output_type": "stream",
     "text": [
      "Oranges Oranges Oranges\n"
     ]
    }
   ],
   "source": [
    "x = y = z = \"Oranges\"\n",
    "print(x,y,z)"
   ]
  },
  {
   "cell_type": "code",
   "execution_count": 75,
   "id": "26cf4e01-e124-4f9b-9dfd-616454b58738",
   "metadata": {},
   "outputs": [
    {
     "name": "stdout",
     "output_type": "stream",
     "text": [
      "Apple Orange Cherry\n"
     ]
    }
   ],
   "source": [
    "fruits = [\"Apple\", \"Orange\", \"Cherry\"]\n",
    "x,y,z = fruits\n",
    "print(x,y,z)"
   ]
  },
  {
   "cell_type": "code",
   "execution_count": 77,
   "id": "256e5717-8097-4e10-b180-f6de1bf71558",
   "metadata": {},
   "outputs": [
    {
     "name": "stdout",
     "output_type": "stream",
     "text": [
      "50\n"
     ]
    }
   ],
   "source": [
    "num1 = 20\n",
    "num2 = 30\n",
    "print(num1 + num2)"
   ]
  }
 ],
 "metadata": {
  "kernelspec": {
   "display_name": "Python [conda env:base] *",
   "language": "python",
   "name": "conda-base-py"
  },
  "language_info": {
   "codemirror_mode": {
    "name": "ipython",
    "version": 3
   },
   "file_extension": ".py",
   "mimetype": "text/x-python",
   "name": "python",
   "nbconvert_exporter": "python",
   "pygments_lexer": "ipython3",
   "version": "3.12.7"
  }
 },
 "nbformat": 4,
 "nbformat_minor": 5
}
