{
 "cells": [
  {
   "cell_type": "code",
   "execution_count": 58,
   "id": "e20d1d7d-9f52-483c-981f-fea6089b4ccb",
   "metadata": {},
   "outputs": [
    {
     "name": "stdout",
     "output_type": "stream",
     "text": [
      "['apple', 'banana', 'pineapple', 'cherry']\n",
      "['banana', 'pineapple', 'cherry']\n",
      "['apple', 'banana', 'cherry', 'apple', 'banana', 'cherry', 'mango']\n",
      "['apple', 'banana', 'cherry']\n",
      "['banana', 'cherry', 'mango']\n",
      "[]\n",
      "apple\n",
      "banana\n",
      "cherry\n",
      "mango\n"
     ]
    }
   ],
   "source": [
    "thisList = [\"apple\", \"banana\", \"cherry\"]\n",
    "thisList.insert(2, \"pineapple\")\n",
    "print(thisList)\n",
    "\n",
    "thisList.remove(\"apple\")\n",
    "print(thisList)\n",
    "\n",
    "thisList = [\"apple\", \"banana\", \"cherry\"]\n",
    "thisList2 = [\"apple\", \"banana\", \"cherry\",\"mango\"]\n",
    "thisList.extend(thisList2)\n",
    "print(thisList)\n",
    "\n",
    "thisList = [\"apple\", \"banana\", \"cherry\",\"mango\"]\n",
    "thisList.pop()\n",
    "print(thisList)\n",
    "\n",
    "thisList = [\"apple\", \"banana\", \"cherry\",\"mango\"]\n",
    "del thisList[0]\n",
    "print(thisList)\n",
    "\n",
    "thisList = [\"apple\", \"banana\", \"cherry\",\"mango\"]\n",
    "thisList.clear()\n",
    "print(thisList)\n",
    "\n",
    "# thisList = [\"apple\", \"banana\", \"cherry\",\"mango\"]\n",
    "# for x in thisList:\n",
    "#     print(x)\n",
    "\n",
    "# thisList = [\"apple\", \"banana\", \"cherry\",\"mango\"]\n",
    "# for i in range(len(thisList)):\n",
    "#     print(thisList[i])\n",
    "\n",
    "thisList = [\"apple\", \"banana\", \"cherry\",\"mango\"]\n",
    "i = 0\n",
    "while i < len(thisList):\n",
    "    print(thisList[i])\n",
    "    i += 1"
   ]
  },
  {
   "cell_type": "code",
   "execution_count": 70,
   "id": "098a85e1-d52d-4eec-8255-89769d2d4123",
   "metadata": {},
   "outputs": [
    {
     "name": "stdout",
     "output_type": "stream",
     "text": [
      "apple\n",
      "banana\n",
      "cherry\n",
      "mango\n",
      "['mango', 'apple', 'pineapple']\n",
      "['mango', 'apple', 'pineapple']\n"
     ]
    }
   ],
   "source": [
    "thisList = [\"apple\", \"banana\", \"cherry\",\"mango\"]\n",
    "[print(x) for x in thisList]\n",
    "\n",
    "fruits = [\"mango\", \"apple\", \"pineapple\"]\n",
    "newl = []\n",
    "\n",
    "for x in fruits:\n",
    "    newl.append(x)\n",
    "\n",
    "print(newl)\n",
    "\n",
    "fruits = [\"mango\", \"apple\", \"pineapple\", \"cherry\", \"kiwi\"]\n",
    "newl = [x for x in fruits if \"a\" in x]\n",
    "print(newl)"
   ]
  }
 ],
 "metadata": {
  "kernelspec": {
   "display_name": "Python [conda env:base] *",
   "language": "python",
   "name": "conda-base-py"
  },
  "language_info": {
   "codemirror_mode": {
    "name": "ipython",
    "version": 3
   },
   "file_extension": ".py",
   "mimetype": "text/x-python",
   "name": "python",
   "nbconvert_exporter": "python",
   "pygments_lexer": "ipython3",
   "version": "3.12.7"
  }
 },
 "nbformat": 4,
 "nbformat_minor": 5
}
