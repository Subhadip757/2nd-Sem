{
 "cells": [
  {
   "cell_type": "code",
   "execution_count": 71,
   "id": "a6ad5928-4d23-4224-9a02-01ca97bc39fe",
   "metadata": {},
   "outputs": [
    {
     "name": "stdout",
     "output_type": "stream",
     "text": [
      "8\n"
     ]
    }
   ],
   "source": [
    "import random as r\n",
    "\n",
    "print(r.randrange(1, 10))"
   ]
  },
  {
   "cell_type": "code",
   "execution_count": 85,
   "id": "e118328b-36ed-44a8-a8f0-21b4c5238410",
   "metadata": {},
   "outputs": [
    {
     "name": "stdout",
     "output_type": "stream",
     "text": [
      "1 2 3\n",
      "1.0 2.8 3.0\n",
      "(1+0j) (2.8+0j) (3+0j)\n",
      "<class 'str'>\n",
      "1 2.8 3\n"
     ]
    }
   ],
   "source": [
    "#Type casting\n",
    "x = int(1)\n",
    "y = int(2.8)\n",
    "z = int(\"3\")\n",
    "\n",
    "print(x,y,z)\n",
    "\n",
    "x = float(1)\n",
    "y = float(2.8)\n",
    "z = float(\"3\")\n",
    "\n",
    "print(x,y,z)\n",
    "\n",
    "x = complex(1)\n",
    "y = complex(2.8)\n",
    "z = complex(\"3\")\n",
    "\n",
    "print(x,y,z)\n",
    "\n",
    "x = str(1)\n",
    "y = str(2.8)\n",
    "z = str(\"3\")\n",
    "\n",
    "print(x,y,z)"
   ]
  },
  {
   "cell_type": "code",
   "execution_count": 93,
   "id": "0648d390-6796-41c4-b54b-23e7fe1ad1f1",
   "metadata": {},
   "outputs": [
    {
     "name": "stdout",
     "output_type": "stream",
     "text": [
      "CAP450\n",
      "CAP450\n",
      "\n",
      "Artificial Intellegence and Intelligence System\n"
     ]
    }
   ],
   "source": [
    "print(\"CAP450\")\n",
    "print('CAP450\\n')\n",
    "\n",
    "subject = \"Artificial Intellegence and Intelligence System\"\n",
    "print(subject)"
   ]
  },
  {
   "cell_type": "code",
   "execution_count": 95,
   "id": "f3bdc004-cd6f-4c41-a0cf-d7f1e771af38",
   "metadata": {},
   "outputs": [
    {
     "name": "stdout",
     "output_type": "stream",
     "text": [
      "My name is Subhadip Dey, a BCA graduate currently pursuing an MCA. \n",
      "I have strong skills in programming, data structures, algorithms, and DBMS, \n",
      "with hands-on experience in C++ and Python. I developed a Book Management System \n",
      "using C++ and completed the 'Google IT Automation with Python' course. \n",
      "Currently, I'm preparing for recruitment exams, including Infosys, and exploring \n",
      "a career in mobile application development. My passion for coding drives me to \n",
      "create efficient solutions and continuously enhance my skills. I enjoy problem-solving \n",
      "and aspire to work on innovative tech projects that make a difference.\n"
     ]
    }
   ],
   "source": [
    "bio = \"\"\"My name is Subhadip Dey, a BCA graduate currently pursuing an MCA. \n",
    "I have strong skills in programming, data structures, algorithms, and DBMS, \n",
    "with hands-on experience in C++ and Python. I developed a Book Management System \n",
    "using C++ and completed the 'Google IT Automation with Python' course. \n",
    "Currently, I'm preparing for recruitment exams, including Infosys, and exploring \n",
    "a career in mobile application development. My passion for coding drives me to \n",
    "create efficient solutions and continuously enhance my skills. I enjoy problem-solving \n",
    "and aspire to work on innovative tech projects that make a difference.\"\"\"\n",
    "\n",
    "print(bio)"
   ]
  },
  {
   "cell_type": "code",
   "execution_count": 145,
   "id": "e4a2dcc0-17fd-492f-acfb-e79b6c510e01",
   "metadata": {},
   "outputs": [
    {
     "name": "stdout",
     "output_type": "stream",
     "text": [
      "os\n",
      "Flower\n",
      "\n",
      "Subhadip"
     ]
    },
    {
     "name": "stdin",
     "output_type": "stream",
     "text": [
      "Enter a string color\n"
     ]
    },
    {
     "name": "stdout",
     "output_type": "stream",
     "text": [
      "c\n",
      "o\n",
      "l\n",
      "o\n",
      "r\n",
      "5\n"
     ]
    }
   ],
   "source": [
    "Flower = \"Red, Rose!\"\n",
    "print(Flower[6:8])\n",
    "\n",
    "for x in \"Flower\":\n",
    "    print(x,end=\"\")\n",
    "\n",
    "print(\"\\n\")\n",
    "for x in \"Subhadip\":\n",
    "    print(x, end=\"\")\n",
    "\n",
    "str = input(\"Enter a string\")\n",
    "for x in str:\n",
    "    print(x)\n",
    "\n",
    "print(len(str))"
   ]
  },
  {
   "cell_type": "code",
   "execution_count": 149,
   "id": "cb1801d2-878b-45d3-9604-a24ff5f8a255",
   "metadata": {},
   "outputs": [
    {
     "name": "stdout",
     "output_type": "stream",
     "text": [
      "True\n",
      "#####\n"
     ]
    }
   ],
   "source": [
    "txt = \"FessingFess\"\n",
    "print(\"Fess\" in txt)\n",
    "\n",
    "txt = \"FessingFess\"\n",
    "if \"Fess\" in txt:\n",
    "    print(\"#####\")"
   ]
  },
  {
   "cell_type": "code",
   "execution_count": 155,
   "id": "1132086b-f69c-450c-b7b7-cd893cbfa654",
   "metadata": {},
   "outputs": [
    {
     "name": "stdout",
     "output_type": "stream",
     "text": [
      "True\n"
     ]
    }
   ],
   "source": [
    "txt = \"FessingFess\"\n",
    "print(\"cha\" not in txt)"
   ]
  },
  {
   "cell_type": "code",
   "execution_count": 181,
   "id": "793d57ba-7d2b-410e-9e5b-b60c3f247d09",
   "metadata": {},
   "outputs": [
    {
     "name": "stdout",
     "output_type": "stream",
     "text": [
      "My name is subhadip and my age is 31\n",
      "I want 325 pieces of item 91  for 105 rupees\n"
     ]
    }
   ],
   "source": [
    "age = 31\n",
    "name = \"My name is subhadip and my age is {}\"\n",
    "print(name.format(age))\n",
    "\n",
    "quantity = 325\n",
    "itemno = 91\n",
    "price = 105\n",
    "myorder = \"I want {} pieces of item {}  for {} rupees\"\n",
    "print(myorder.format(quantity, itemno, price))"
   ]
  },
  {
   "cell_type": "code",
   "execution_count": 185,
   "id": "b4979f79-7e9d-4637-9851-9e235c943378",
   "metadata": {},
   "outputs": [
    {
     "name": "stdout",
     "output_type": "stream",
     "text": [
      "Name: Subahdip, Age: 21, College: LPU, Ph: 1234567890\n"
     ]
    }
   ],
   "source": [
    "#display name, college mobile number\n",
    "name = \"Subahdip\"\n",
    "age = 21\n",
    "college = \"LPU\"\n",
    "Ph = 1234567890\n",
    "out = \"Name: {}, Age: {}, College: {}, Ph: {}\"\n",
    "print(out.format(name, age, college, Ph))"
   ]
  },
  {
   "cell_type": "code",
   "execution_count": 187,
   "id": "8d33a77e-f449-447c-b314-8db1e32fa89a",
   "metadata": {},
   "outputs": [
    {
     "name": "stdout",
     "output_type": "stream",
     "text": [
      "I want to pay 105 rupees for 325 pieces of item 91.\n"
     ]
    }
   ],
   "source": [
    "#placeholder with 0\n",
    "quantity = 325\n",
    "itemno = 91\n",
    "price = 105\n",
    "myorder = \"I want to pay {2} rupees for {0} pieces of item {1}.\"\n",
    "\n",
    "print(myorder.format(quantity, itemno, price))"
   ]
  },
  {
   "cell_type": "code",
   "execution_count": 201,
   "id": "1135368f-fc71-4827-944f-724e5c00c769",
   "metadata": {},
   "outputs": [
    {
     "name": "stdout",
     "output_type": "stream",
     "text": [
      "Weather of \"Himachal Pradesh\" is cold.\n"
     ]
    }
   ],
   "source": [
    "txt = \"Weather of \\\"Himachal Pradesh\\\" is cold.\"\n",
    "print(txt)"
   ]
  },
  {
   "cell_type": "code",
   "execution_count": 203,
   "id": "089f5a5b-df77-446a-8577-151abef552ae",
   "metadata": {},
   "outputs": [
    {
     "name": "stdout",
     "output_type": "stream",
     "text": [
      "120 > 29\n",
      "False\n",
      "False\n"
     ]
    }
   ],
   "source": [
    "#boolean\n",
    "print(\"120 > 29\")\n",
    "print(120 == 29)\n",
    "print(120 < 29)"
   ]
  },
  {
   "cell_type": "code",
   "execution_count": 215,
   "id": "f0af04d7-da0f-4ec2-9ac3-44958aad5406",
   "metadata": {},
   "outputs": [
    {
     "name": "stdin",
     "output_type": "stream",
     "text": [
      "Enter a number:  5\n",
      "Enter a number:  9\n"
     ]
    },
    {
     "name": "stdout",
     "output_type": "stream",
     "text": [
      "9 is greater than 5\n"
     ]
    }
   ],
   "source": [
    "a = int(input(\"Enter a number: \"))\n",
    "b = int(input(\"Enter a number: \"))\n",
    "\n",
    "if(a > b):\n",
    "    print(a, \"is greater than\", b)\n",
    "else:\n",
    "    print(b, \"is greater than\", a)\n"
   ]
  },
  {
   "cell_type": "code",
   "execution_count": 227,
   "id": "af81d518-9638-4082-972d-abae367c2bcc",
   "metadata": {},
   "outputs": [
    {
     "name": "stdin",
     "output_type": "stream",
     "text": [
      "Enter a number:  9\n"
     ]
    },
    {
     "name": "stdout",
     "output_type": "stream",
     "text": [
      "9 is odd\n"
     ]
    }
   ],
   "source": [
    "a = int(input(\"Enter a number: \"))\n",
    "\n",
    "if(a % 2==0):\n",
    "    print(a,\"is even\")\n",
    "else:\n",
    "    print(a,\"is odd\")"
   ]
  },
  {
   "cell_type": "code",
   "execution_count": 243,
   "id": "41ca1edc-a547-42b1-9ea5-a67a10bf8221",
   "metadata": {},
   "outputs": [
    {
     "name": "stdin",
     "output_type": "stream",
     "text": [
      "Enter a number:  8\n"
     ]
    },
    {
     "name": "stdout",
     "output_type": "stream",
     "text": [
      "Not Prime\n"
     ]
    }
   ],
   "source": [
    "a = int(input(\"Enter a number: \"))\n",
    "\n",
    "if a < 2:\n",
    "    print(\"Not Prime\")  \n",
    "else:\n",
    "    is_prime = True  \n",
    "    for i in range(2, a):  \n",
    "        if a % i == 0:\n",
    "            is_prime = False\n",
    "            break\n",
    "\n",
    "    if is_prime:\n",
    "        print(\"Is Prime\")\n",
    "    else:\n",
    "        print(\"Not Prime\")\n",
    "        "
   ]
  },
  {
   "cell_type": "code",
   "execution_count": 249,
   "id": "bd44fb8d-5cb8-483a-a280-f465419f108d",
   "metadata": {},
   "outputs": [
    {
     "name": "stdout",
     "output_type": "stream",
     "text": [
      "True\n",
      "True\n"
     ]
    }
   ],
   "source": [
    "print(bool(\"Rahul\"))\n",
    "FirstVar = 7\n",
    "print(bool(FirstVar))"
   ]
  },
  {
   "cell_type": "code",
   "execution_count": 251,
   "id": "1c85901e-5cf6-4983-80ed-e179caef4fd8",
   "metadata": {},
   "outputs": [
    {
     "name": "stdout",
     "output_type": "stream",
     "text": [
      "36\n",
      "28\n",
      "128\n",
      "8.0\n",
      "0\n",
      "1048576\n",
      "8\n"
     ]
    }
   ],
   "source": [
    "a = 32\n",
    "b = 4\n",
    "\n",
    "print(a + b)\n",
    "print(a - b)\n",
    "print(a * b)\n",
    "print(a / b)\n",
    "print(a % b)\n",
    "print(a ** b)\n",
    "print(a // b)"
   ]
  },
  {
   "cell_type": "code",
   "execution_count": 255,
   "id": "76c7e405-d9a4-4908-8c6b-3b93e5519919",
   "metadata": {},
   "outputs": [
    {
     "name": "stdout",
     "output_type": "stream",
     "text": [
      "32\n",
      "35\n",
      "33\n",
      "4.125\n",
      "16.5\n",
      "0.5\n",
      "0.03125\n",
      "0.0\n"
     ]
    }
   ],
   "source": [
    "a = 32\n",
    "print(a)\n",
    "\n",
    "a += 3\n",
    "print(a)\n",
    "\n",
    "a -= 2\n",
    "print(a)\n",
    "\n",
    "a /= 8\n",
    "print(a)\n",
    "\n",
    "a *= 4\n",
    "print(a)\n",
    "\n",
    "a %= 4\n",
    "print(a)\n",
    "\n",
    "a **= 5\n",
    "print(a)\n",
    "\n",
    "a //= 4\n",
    "print(a)"
   ]
  },
  {
   "cell_type": "code",
   "execution_count": null,
   "id": "fa4565a0-57ad-42b4-8e28-d33af0a155c3",
   "metadata": {},
   "outputs": [],
   "source": []
  }
 ],
 "metadata": {
  "kernelspec": {
   "display_name": "Python [conda env:base] *",
   "language": "python",
   "name": "conda-base-py"
  },
  "language_info": {
   "codemirror_mode": {
    "name": "ipython",
    "version": 3
   },
   "file_extension": ".py",
   "mimetype": "text/x-python",
   "name": "python",
   "nbconvert_exporter": "python",
   "pygments_lexer": "ipython3",
   "version": "3.12.7"
  }
 },
 "nbformat": 4,
 "nbformat_minor": 5
}
