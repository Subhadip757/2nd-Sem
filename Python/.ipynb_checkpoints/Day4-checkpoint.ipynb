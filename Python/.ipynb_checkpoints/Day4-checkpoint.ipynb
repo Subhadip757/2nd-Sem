{
 "cells": [
  {
   "cell_type": "code",
   "execution_count": 21,
   "id": "7a8e0e2a-e1fe-4a2a-83d5-0cb9877679b7",
   "metadata": {},
   "outputs": [
    {
     "name": "stdout",
     "output_type": "stream",
     "text": [
      "True\n",
      "False\n",
      "True\n",
      "\n",
      "True\n",
      "True\n"
     ]
    }
   ],
   "source": [
    "#identity operators\n",
    "x = ['apple', 'banana']\n",
    "y = [\"apple\", \"banana\"]\n",
    "z = x\n",
    "print(x is z)\n",
    "print(y is x)\n",
    "print(x == y)"
   ]
  },
  {
   "cell_type": "code",
   "execution_count": 23,
   "id": "3628fff3-1a1f-4ed7-beaa-fbedaaf0eef0",
   "metadata": {},
   "outputs": [
    {
     "name": "stdout",
     "output_type": "stream",
     "text": [
      "True\n",
      "True\n"
     ]
    }
   ],
   "source": [
    "#membership operators\n",
    "x = [\"Apple\", \"Banana\"]\n",
    "print(\"Banana\" in x)\n",
    "print(\"pineapple\" not in x)"
   ]
  },
  {
   "cell_type": "code",
   "execution_count": 41,
   "id": "11dd6322-4565-4b99-8d80-e804be643179",
   "metadata": {},
   "outputs": [
    {
     "name": "stdout",
     "output_type": "stream",
     "text": [
      "2\n",
      "7\n",
      "5\n",
      "0\n",
      "16\n",
      "-4\n",
      "0\n",
      "115\n",
      "5\n"
     ]
    }
   ],
   "source": [
    "print(6 & 3)\n",
    "print(6 | 3)\n",
    "print(6 ^ 3)\n",
    "print(6 >> 3)\n",
    "print(4 << 2)\n",
    "print(~3)\n",
    "\n",
    "#operator precedence\n",
    "print((6 + 3) - (6 + 3))\n",
    "print(100 + 5 * 3)\n",
    "print(5 + 4 - 7 + 3)"
   ]
  }
 ],
 "metadata": {
  "kernelspec": {
   "display_name": "Python [conda env:base] *",
   "language": "python",
   "name": "conda-base-py"
  },
  "language_info": {
   "codemirror_mode": {
    "name": "ipython",
    "version": 3
   },
   "file_extension": ".py",
   "mimetype": "text/x-python",
   "name": "python",
   "nbconvert_exporter": "python",
   "pygments_lexer": "ipython3",
   "version": "3.12.7"
  }
 },
 "nbformat": 4,
 "nbformat_minor": 5
}
