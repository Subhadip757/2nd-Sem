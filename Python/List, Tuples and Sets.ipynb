{
 "cells": [
  {
   "cell_type": "code",
   "execution_count": 66,
   "id": "efd709e9-8e3d-4b57-ac44-13a06e05ab96",
   "metadata": {},
   "outputs": [
    {
     "name": "stdout",
     "output_type": "stream",
     "text": [
      "[0, 1, 2, 3, 4]\n",
      "['APPLE', 'BANANA', 'CHERRY', 'KIWI', 'MANGO']\n",
      "apple\n",
      "cherry\n",
      "kiwi\n",
      "mango\n",
      "['APPLE', 'BANANA', 'CHERRY', 'KIWI', 'MANGO']\n",
      "[1, 2, 3, 5, 6, 9, 10]\n",
      "[10, 9, 6, 5, 3, 2, 1]\n",
      "[10, 19, 20, 30, 50, 60, 100]\n",
      "['hello', 'hello', 'hello', 'hello', 'hello']\n",
      "['apple', 'apple', 'Banana', 'Cherry', 'Grapes', 'Kiwi', 'mango']\n",
      "['apple', 'apple', 'Banana', 'Cherry', 'Grapes', 'Kiwi', 'mango']\n"
     ]
    }
   ],
   "source": [
    "newList = [x for x in range(10) if x < 5]\n",
    "print(newList)\n",
    "\n",
    "fruits = [\"apple\", \"banana\", \"cherry\", \"kiwi\", \"mango\"]\n",
    "newList = [x.upper() for x in fruits]\n",
    "print(newList)\n",
    "\n",
    "for x in fruits:\n",
    "    if(x != \"banana\"):\n",
    "        print(x)\n",
    "        \n",
    "newList.sort()\n",
    "print(newList)\n",
    "\n",
    "nums = [5, 6, 1, 2, 9, 10, 3]\n",
    "nums.sort()\n",
    "print(nums)\n",
    "\n",
    "nums.reverse()\n",
    "print(nums)\n",
    "\n",
    "nums = [50, 60, 10, 20, 19, 100, 30]\n",
    "sorted_nums = sorted([x for x in nums if x < 50]) + [x for x in nums if x >= 50]\n",
    "print(sorted_nums)\n",
    "\n",
    "\n",
    "newList = [\"hello\" for x in fruits]\n",
    "print(newList)\n",
    "fruits = [\"apple\", \"Banana\", \"Cherry\", \"Kiwi\", \"mango\", \"Grapes\",\"apple\"]\n",
    "fruits.sort(key = str.lower)\n",
    "print(fruits)\n",
    "\n",
    "newList = fruits.copy()\n",
    "print(newList)"
   ]
  },
  {
   "cell_type": "code",
   "execution_count": 102,
   "id": "1a561c93-a32f-41ff-87cc-0730448b26ea",
   "metadata": {},
   "outputs": [
    {
     "name": "stdout",
     "output_type": "stream",
     "text": [
      "('apple', 'banana', 'apple')\n",
      "banana\n",
      "('apple', 'cherry', 'apple')\n",
      "('apple', 'banana', 'apple', 'orange')\n",
      "('apple', 'banana', 'apple', 'orange')\n",
      "apple\n",
      "['banana', 'cherry', 'strawberry']\n",
      "raspberry\n",
      "apple\n",
      "banana\n",
      "cherry\n",
      "strawberry\n",
      "raspberry\n"
     ]
    }
   ],
   "source": [
    "\n",
    "# ---------------Tuples------------------\n",
    "\n",
    "newList = (\"apple\", \"banana\", \"apple\")\n",
    "print(newList)\n",
    "\n",
    "print(newList[1])\n",
    "\n",
    "y = list(newList)\n",
    "y[1] = \"cherry\"\n",
    "print(tuple(y))\n",
    "\n",
    "y = list(newList)\n",
    "y.append(\"orange\")\n",
    "print(tuple(y))\n",
    "\n",
    "newT = (\"apple\", \"banana\", \"apple\")\n",
    "y = (\"orange\",)\n",
    "newT += y\n",
    "\n",
    "print(newT)\n",
    "\n",
    "fruits = (\"apple\", \"banana\", \"cherry\", \"strawberry\", \"raspberry\")\n",
    "(green, *yellow, red) = fruits\n",
    "\n",
    "print(green)\n",
    "print(yellow)\n",
    "print(red)\n",
    "\n",
    "for x in fruits:\n",
    "    print(x)"
   ]
  },
  {
   "cell_type": "code",
   "execution_count": 124,
   "id": "8d1e042e-8d90-44e6-ab0e-412aa51dd0ba",
   "metadata": {},
   "outputs": [
    {
     "name": "stdout",
     "output_type": "stream",
     "text": [
      "(1, 2, 3, 'apple', 'banana', 'cherry')\n",
      "('apple', 'banana', 'cherry', 'apple', 'banana', 'cherry')\n",
      "3\n",
      "{'cherry', 'apple', 'banana'}\n",
      "{True, 2, 'banana', 'cherry', 'apple'}\n",
      "{False, 1, 'banana', 'cherry', 'apple'}\n",
      "5\n",
      "{'apple', 'banana'} {1, 2, 3} {False, True}\n"
     ]
    }
   ],
   "source": [
    "tup1 = (1, 2, 3)\n",
    "tup2 = (\"apple\", \"banana\", \"cherry\")\n",
    "\n",
    "tup3 = tup1 + tup2\n",
    "print(tup3)\n",
    "\n",
    "tup1 = (\"apple\", \"banana\", \"cherry\")\n",
    "tup2 = tup1 * 2\n",
    "print(tup2)\n",
    "\n",
    "tup = (1, 5, 2, 5, 3, 5)\n",
    "print(tup.count(5))\n",
    "\n"
   ]
  },
  {
   "cell_type": "code",
   "execution_count": 158,
   "id": "0ab20f72-77ac-46b5-8904-1a2c26abf889",
   "metadata": {},
   "outputs": [
    {
     "name": "stdout",
     "output_type": "stream",
     "text": [
      "{'cherry', 'apple', 'banana'}\n",
      "{True, 2, 'banana', 'cherry', 'apple'}\n",
      "{False, 1, 'banana', 'cherry', 'apple'}\n",
      "5\n",
      "{'apple', 'banana'} {1, 2, 3} {False, True}\n",
      "{'cherry', 'apple', 'banana'}\n",
      "{'cherry', 'kiwi', 'apple', 'banana'}\n",
      "{'papaya', 'apple', 'banana', 'pineapple', 'mango', 'cherry'}\n",
      "{'papaya', 'apple', 'pineapple', 'mango', 'cherry'}\n",
      "{'papaya', 'apple', 'pineapple', 'mango', 'cherry'}\n",
      "{'a', 1, 2, 3, 'b', 'c'}\n",
      "{'apple'}\n",
      "{1, 2, 3, 'mango', 'banana'}\n"
     ]
    }
   ],
   "source": [
    "\n",
    "#-------------------sets-------------------------\n",
    "\n",
    "thisset = {\"apple\", \"banana\", \"cherry\", \"apple\"}\n",
    "print(thisset)\n",
    "\n",
    "thisset = {\"apple\", \"banana\", \"cherry\", True, 1, 2}\n",
    "print(thisset)\n",
    "\n",
    "thisset = {\"apple\", \"banana\", \"cherry\", False, 1, 0}\n",
    "print(thisset)\n",
    "\n",
    "print(len(thisset))\n",
    "\n",
    "set1 = {\"apple\", \"banana\"}\n",
    "set2 = {1, 2, 3}\n",
    "set3 = {True, False}\n",
    "\n",
    "print(set1, set2, set3)\n",
    "\n",
    "newSet = set((\"apple\", \"banana\", \"cherry\"))\n",
    "print(newSet)\n",
    "\n",
    "newSet.add(\"kiwi\")\n",
    "print(newSet)\n",
    "\n",
    "newSet = {\"apple\", \"banana\", \"cherry\"}\n",
    "newSet2 = {\"mango\", \"papaya\", \"pineapple\"}\n",
    "\n",
    "newSet.update(newSet2)\n",
    "print(newSet)\n",
    "\n",
    "newSet.remove(\"banana\")\n",
    "print(newSet)\n",
    "\n",
    "newSet.discard(\"banana\")\n",
    "print(newSet)\n",
    "\n",
    "set1 = {\"a\", \"b\", \"c\"}\n",
    "set2 = {1, 2, 3}\n",
    "set3 = set1.union(set2)\n",
    "print(set3)\n",
    "\n",
    "x = {\"apple\", \"banana\", \"mango\"}\n",
    "y = {1, 2, 3, \"apple\"}\n",
    "z = x.intersection(y)\n",
    "\n",
    "print(z)\n",
    "\n",
    "x.symmetric_difference_update(y)\n",
    "print(x)"
   ]
  },
  {
   "cell_type": "code",
   "execution_count": 200,
   "id": "d6f1fe8f-7f32-4828-b40b-3181f642002a",
   "metadata": {},
   "outputs": [
    {
     "name": "stdout",
     "output_type": "stream",
     "text": [
      "2024\n",
      "4\n",
      "<class 'dict'>\n",
      "Mercedes-Benz\n",
      "['red', 'white', 'blue']\n",
      "After change:  dict_keys(['brand', 'model', 'year', 'color'])\n",
      "dict_values(['Mercedes-Benz', 'EQS SUV', 2024, 'White'])\n",
      "dict_items([('brand', 'Mercedes-Benz'), ('model', 'EQS SUV'), ('year', 2024), ('color', 'White')])\n",
      "True\n",
      "True\n",
      "True\n",
      "False\n"
     ]
    }
   ],
   "source": [
    "#--------------Dist-----------------\n",
    "thisDist = {\n",
    "    \"brand\" : \"Mercedes-Benz\",\n",
    "    \"model\" : \"EQS SUV\",\n",
    "    \"year\"  : 2024,\n",
    "    \"colors\": [\"red\", \"white\", \"blue\"]\n",
    "}\n",
    "\n",
    "print(thisDist[\"year\"])\n",
    "print(len(thisDist))\n",
    "print(type(thisDist))\n",
    "\n",
    "x = thisDist[\"brand\"]\n",
    "print(x)\n",
    "\n",
    "print(thisDist[\"colors\"])\n",
    "\n",
    "cars = {\n",
    "    \"brand\" : \"Mercedes-Benz\",\n",
    "    \"model\" : \"EQS SUV\",\n",
    "    \"year\"  : 2024\n",
    "}\n",
    "\n",
    "x = cars.keys()\n",
    "\n",
    "cars[\"color\"] = \"White\"\n",
    "print(\"After change: \", x)\n",
    "\n",
    "x = cars.values()\n",
    "print(x)\n",
    "\n",
    "x = cars.items()\n",
    "print(x)\n",
    "\n",
    "if \"brand\" in cars:\n",
    "    print(True)\n",
    "\n",
    "if \"hello\" in cars:\n",
    "    print(True)\n",
    "else:\n",
    "    print(False)"
   ]
  },
  {
   "cell_type": "code",
   "execution_count": 9,
   "id": "6861d0db-8918-4c85-b70f-701e632ded3c",
   "metadata": {},
   "outputs": [
    {
     "name": "stdout",
     "output_type": "stream",
     "text": [
      "['apple', 'jackfruit', 'banana']\n",
      "lime\n",
      "lime\n"
     ]
    }
   ],
   "source": [
    "fruits = (\"apple\", \"jackfruit\", \"banana\", \"lime\")\n",
    "(*red, brown) = fruits\n",
    "\n",
    "print(red)\n",
    "print(brown)\n",
    "print(yellow)\n"
   ]
  }
 ],
 "metadata": {
  "kernelspec": {
   "display_name": "Python [conda env:base] *",
   "language": "python",
   "name": "conda-base-py"
  },
  "language_info": {
   "codemirror_mode": {
    "name": "ipython",
    "version": 3
   },
   "file_extension": ".py",
   "mimetype": "text/x-python",
   "name": "python",
   "nbconvert_exporter": "python",
   "pygments_lexer": "ipython3",
   "version": "3.12.7"
  }
 },
 "nbformat": 4,
 "nbformat_minor": 5
}
