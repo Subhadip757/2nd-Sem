{
 "cells": [
  {
   "cell_type": "code",
   "execution_count": 43,
   "id": "81fd9720-bb91-48a9-b90b-73cfc1367103",
   "metadata": {},
   "outputs": [
    {
     "name": "stdout",
     "output_type": "stream",
     "text": [
      "[1 2 3 4]\n",
      "1.26.4\n",
      "[1 2 3 4]\n",
      "[[1 2 3]\n",
      " [4 5 6]]\n",
      "[[[1 2 3]\n",
      "  [3 4 5]]\n",
      "\n",
      " [[1 2 3]\n",
      "  [4 5 6]]]\n",
      "0 1 2 3\n",
      "3\n",
      "[2 4 5 9]\n",
      "2\n",
      "[[2 3 9]\n",
      " [4 6 7]]\n"
     ]
    }
   ],
   "source": [
    "#NumPy Library\n",
    "import numpy as np\n",
    "\n",
    "arr = np.array([1, 2, 3, 4])\n",
    "print(arr)\n",
    "\n",
    "print(np.__version__)\n",
    "\n",
    "arr = np.array((1, 2, 3, 4))\n",
    "print(arr)\n",
    "\n",
    "arr = np.array([[1,2,3],[4,5,6]])\n",
    "print(arr)\n",
    "\n",
    "arr = np.array([[[1,2,3],[3,4,5]],[[1,2,3],[4,5,6]]])\n",
    "print(arr)\n",
    "\n",
    "a = np.array(42)\n",
    "b = np.array([1, 2, 3, 4])\n",
    "c = np.array([[1,2,3],[4,5,6]])\n",
    "d = np.array([[[1,2,3],[3,4,5]],[[1,2,3],[4,5,6]]])\n",
    "\n",
    "print(a.ndim, b.ndim, c.ndim, d.ndim)\n",
    "\n",
    "#Sum of two nums in array\n",
    "arr = np.array([1,2])\n",
    "sum = 0\n",
    "for i in arr:\n",
    "    sum += i;\n",
    "\n",
    "print(sum)\n",
    "\n",
    "arr = np.array([5, 2, 9, 4])\n",
    "print(np.sort(arr))\n",
    "\n",
    "\n",
    "arr = np.array([[9,2,3],[4,7,6]])\n",
    "print(arr[0,1])\n"
   ]
  },
  {
   "cell_type": "code",
   "execution_count": 55,
   "id": "94d10da8-c57a-43bb-bfd2-baf72011edb4",
   "metadata": {},
   "outputs": [
    {
     "name": "stdout",
     "output_type": "stream",
     "text": [
      "     cars  passings\n",
      "0  Maruti         3\n",
      "1   Volvo         7\n",
      "2    Ford         2\n",
      "2.2.2\n",
      "0       Users\n",
      "1    Password\n",
      "2           3\n",
      "dtype: object\n"
     ]
    }
   ],
   "source": [
    "#Pandas\n",
    "import pandas as pd\n",
    "\n",
    "mydataset = {\n",
    "    'cars':[\"Maruti\", \"Volvo\", \"Ford\"],\n",
    "    'passings':[3,7,2]\n",
    "}\n",
    "\n",
    "myvar = pd.DataFrame(mydataset)\n",
    "print(myvar)\n",
    "\n",
    "print(pd.__version__)\n",
    "\n",
    "\n",
    "num = [1,2,3]\n",
    "\n",
    "myvar = pd.Series(num)\n",
    "print(myvar)"
   ]
  }
 ],
 "metadata": {
  "kernelspec": {
   "display_name": "Python [conda env:base] *",
   "language": "python",
   "name": "conda-base-py"
  },
  "language_info": {
   "codemirror_mode": {
    "name": "ipython",
    "version": 3
   },
   "file_extension": ".py",
   "mimetype": "text/x-python",
   "name": "python",
   "nbconvert_exporter": "python",
   "pygments_lexer": "ipython3",
   "version": "3.12.7"
  }
 },
 "nbformat": 4,
 "nbformat_minor": 5
}
