{
 "cells": [
  {
   "cell_type": "code",
   "execution_count": null,
   "id": "81fd9720-bb91-48a9-b90b-73cfc1367103",
   "metadata": {},
   "outputs": [
    {
     "name": "stdout",
     "output_type": "stream",
     "text": [
      "[1 2 3 4]\n",
      "1.26.4\n",
      "[1 2 3 4]\n",
      "[[1 2 3]\n",
      " [4 5 6]]\n",
      "[[[1 2 3]\n",
      "  [3 4 5]]\n",
      "\n",
      " [[1 2 3]\n",
      "  [4 5 6]]]\n",
      "0 1 2 3\n",
      "3\n",
      "[2 4 5 9]\n",
      "2\n",
      "[[2 3 9]\n",
      " [4 6 7]]\n"
     ]
    }
   ],
   "source": [
    "#NumPy Library\n",
    "import numpy as np\n",
    "\n",
    "arr = np.array([1, 2, 3, 4])\n",
    "print(arr)\n",
    "\n",
    "print(np.__version__)\n",
    "\n",
    "arr = np.array((1, 2, 3, 4))\n",
    "print(arr)\n",
    "\n",
    "arr = np.array([[1,2,3],[4,5,6]])\n",
    "print(arr)\n",
    "\n",
    "arr = np.array([[[1,2,3],[3,4,5]],[[1,2,3],[4,5,6]]])\n",
    "print(arr)\n",
    "\n",
    "a = np.array(42)\n",
    "b = np.array([1, 2, 3, 4])\n",
    "c = np.array([[1,2,3],[4,5,6]])\n",
    "d = np.array([[[1,2,3],[3,4,5]],[[1,2,3],[4,5,6]]])\n",
    "\n",
    "print(a.ndim, b.ndim, c.ndim, d.ndim)\n",
    "\n",
    "#Sum of two nums in array\n",
    "arr = np.array([1,2])\n",
    "sum = 0\n",
    "for i in arr:\n",
    "    sum += i\n",
    "\n",
    "print(sum)\n",
    "\n",
    "arr = np.array([5, 2, 9, 4])\n",
    "print(np.sort(arr))\n",
    "\n",
    "\n",
    "arr = np.array([[9,2,3],[4,7,6]])\n",
    "print(arr[0,1])\n"
   ]
  },
  {
   "cell_type": "code",
   "execution_count": 83,
   "id": "94d10da8-c57a-43bb-bfd2-baf72011edb4",
   "metadata": {},
   "outputs": [
    {
     "name": "stdout",
     "output_type": "stream",
     "text": [
      "     cars  passings\n",
      "0  Maruti         3\n",
      "1   Volvo         7\n",
      "2    Ford         2\n",
      "2.2.2\n",
      "0    1\n",
      "1    2\n",
      "2    3\n",
      "dtype: int64\n",
      "x    42\n",
      "y    42\n",
      "z    42\n",
      "dtype: int64\n",
      "42\n"
     ]
    },
    {
     "name": "stderr",
     "output_type": "stream",
     "text": [
      "/var/folders/ps/94tl90gj0bxgk7s6czfs42kh0000gn/T/ipykernel_21096/1872156926.py:24: FutureWarning: Series.__getitem__ treating keys as positions is deprecated. In a future version, integer keys will always be treated as labels (consistent with DataFrame behavior). To access a value by position, use `ser.iloc[pos]`\n",
      "  print(myvar[1])\n"
     ]
    }
   ],
   "source": [
    "#Pandas\n",
    "import pandas as pd\n",
    "\n",
    "mydataset = {\n",
    "    'cars':[\"Maruti\", \"Volvo\", \"Ford\"],\n",
    "    'passings':[3,7,2]\n",
    "}\n",
    "\n",
    "myvar = pd.DataFrame(mydataset)\n",
    "print(myvar)\n",
    "\n",
    "print(pd.__version__)"
   ]
  },
  {
   "cell_type": "code",
   "execution_count": 91,
   "id": "54f01bf6-32ae-433a-91fd-f13d054becb4",
   "metadata": {},
   "outputs": [
    {
     "name": "stdout",
     "output_type": "stream",
     "text": [
      "0    1\n",
      "1    2\n",
      "2    3\n",
      "dtype: int64\n",
      "x    42\n",
      "y    42\n",
      "z    42\n",
      "dtype: int64\n"
     ]
    }
   ],
   "source": [
    "import pandas as pd\n",
    "num = [1, 2, 3]\n",
    "\n",
    "myvar = pd.Series(num)\n",
    "print(myvar)\n",
    "\n",
    "myvar = pd.Series(a, index=[\"x\", \"y\", \"z\"])\n",
    "print(myvar)"
   ]
  },
  {
   "cell_type": "code",
   "execution_count": 111,
   "id": "c2599041-993c-4e26-bd4e-1cceff674669",
   "metadata": {},
   "outputs": [
    {
     "name": "stdout",
     "output_type": "stream",
     "text": [
      "day1    421\n",
      "day2    380\n",
      "day3    390\n",
      "dtype: int64\n",
      "    Name  age\n",
      "0  Rohan   25\n",
      "1  Swati   26\n",
      "2  Priya   31\n",
      "Name    Rohan\n",
      "age        25\n",
      "Name: 0, dtype: object\n",
      "      calories  duration\n",
      "day1       420        50\n",
      "day2       350        40\n",
      "day3       390        45\n",
      "calories    350\n",
      "duration     40\n",
      "Name: day2, dtype: int64\n"
     ]
    }
   ],
   "source": [
    "import pandas as pd\n",
    "\n",
    "calories = {\"day1\":421, \"day2\":380, \"day3\": 390}\n",
    "myvar = pd.Series(calories)\n",
    "print(myvar)\n",
    "\n",
    "data = {\n",
    "    \"Name\": [\"Rohan\", \"Swati\", \"Priya\"],\n",
    "    \"age\":[25,26,31],\n",
    "}\n",
    "\n",
    "myvar = pd.DataFrame(data)\n",
    "print(myvar)\n",
    "\n",
    "\n",
    "print(myvar.loc[0])\n",
    "\n",
    "\n",
    "data = {\n",
    "    \"calories\": [420, 350, 390],\n",
    "    \"duration\":[50,40,45]\n",
    "}\n",
    "\n",
    "df = pd.DataFrame(data, index = [\"day1\", \"day2\", \"day3\"])\n",
    "print(df)\n",
    "\n",
    "print(df.loc[\"day2\"])"
   ]
  }
 ],
 "metadata": {
  "kernelspec": {
   "display_name": "Python [conda env:base] *",
   "language": "python",
   "name": "conda-base-py"
  },
  "language_info": {
   "codemirror_mode": {
    "name": "ipython",
    "version": 3
   },
   "file_extension": ".py",
   "mimetype": "text/x-python",
   "name": "python",
   "nbconvert_exporter": "python",
   "pygments_lexer": "ipython3",
   "version": "3.12.7"
  }
 },
 "nbformat": 4,
 "nbformat_minor": 5
}
