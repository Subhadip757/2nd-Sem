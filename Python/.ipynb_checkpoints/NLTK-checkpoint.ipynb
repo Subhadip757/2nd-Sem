{
 "cells": [
  {
   "cell_type": "code",
   "execution_count": 1,
   "id": "fecbbac0-f163-4d73-aea2-f1edaae2f13d",
   "metadata": {},
   "outputs": [
    {
     "name": "stderr",
     "output_type": "stream",
     "text": [
      "[nltk_data] Downloading package vader_lexicon to\n",
      "[nltk_data]     /Users/subhadip/nltk_data...\n",
      "[nltk_data]   Package vader_lexicon is already up-to-date!\n",
      "[nltk_data] Downloading package punkt to /Users/subhadip/nltk_data...\n",
      "[nltk_data]   Package punkt is already up-to-date!\n"
     ]
    }
   ],
   "source": [
    "import nltk\n",
    "from nltk.sentiment import SentimentIntensityAnalyzer\n",
    "from nltk.tokenize import word_tokenize\n",
    "\n",
    "# nltk.download('vader_lexicon') #download the vader lexicon\n",
    "# nltk.download('punkt') #download the tokenizer\n",
    "\n",
    "def analyze_sentiment(text):\n",
    "    \"\"\"Analyze the sentiment of a given text.\"\"\"\n",
    "\n",
    "    analyzer = SentimentIntensityAnalyzer()\n",
    "    scores = analyzer.polarity_scores(text)\n",
    "\n",
    "#interpret the scores\n",
    "    if scores['compound'] >= 0.05:\n",
    "        sentiment = \"Positive\"\n",
    "    elif scores['compound'] >= -0.05:\n",
    "        sentiment = \"Negative\"\n",
    "    else:\n",
    "        sentiment = \"Neutral\"\n",
    "    return sentiment, scores"
   ]
  },
  {
   "cell_type": "code",
   "execution_count": 15,
   "id": "346ffd9c-103e-4f10-92e5-3f590671bdb1",
   "metadata": {},
   "outputs": [
    {
     "ename": "NameError",
     "evalue": "name 'text' is not defined",
     "output_type": "error",
     "traceback": [
      "\u001b[0;31m---------------------------------------------------------------------------\u001b[0m",
      "\u001b[0;31mNameError\u001b[0m                                 Traceback (most recent call last)",
      "Cell \u001b[0;32mIn[15], line 12\u001b[0m\n\u001b[1;32m      9\u001b[0m sentiment2, scores2 \u001b[38;5;241m=\u001b[39m analyze_sentiment(text2)\n\u001b[1;32m     10\u001b[0m sentiment3, scores3 \u001b[38;5;241m=\u001b[39m analyze_sentiment(text3)\n\u001b[0;32m---> 12\u001b[0m \u001b[38;5;28mprint\u001b[39m(\u001b[38;5;124mf\u001b[39m\u001b[38;5;124m\"\u001b[39m\u001b[38;5;124m'\u001b[39m\u001b[38;5;132;01m{\u001b[39;00mtext\u001b[38;5;132;01m}\u001b[39;00m\u001b[38;5;124m'\u001b[39m\u001b[38;5;124m Sentiment: \u001b[39m\u001b[38;5;132;01m{\u001b[39;00msentiment1\u001b[38;5;132;01m}\u001b[39;00m\u001b[38;5;124m, Scores: \u001b[39m\u001b[38;5;132;01m{\u001b[39;00mscores1\u001b[38;5;132;01m}\u001b[39;00m\u001b[38;5;124m\"\u001b[39m)\n\u001b[1;32m     13\u001b[0m \u001b[38;5;28mprint\u001b[39m(\u001b[38;5;124mf\u001b[39m\u001b[38;5;124m\"\u001b[39m\u001b[38;5;124m'\u001b[39m\u001b[38;5;132;01m{\u001b[39;00mtext\u001b[38;5;132;01m}\u001b[39;00m\u001b[38;5;124m'\u001b[39m\u001b[38;5;124m Sentiment: \u001b[39m\u001b[38;5;132;01m{\u001b[39;00msentiment2\u001b[38;5;132;01m}\u001b[39;00m\u001b[38;5;124m, Scores: \u001b[39m\u001b[38;5;132;01m{\u001b[39;00mscores2\u001b[38;5;132;01m}\u001b[39;00m\u001b[38;5;124m\"\u001b[39m)\n\u001b[1;32m     14\u001b[0m \u001b[38;5;28mprint\u001b[39m(\u001b[38;5;124mf\u001b[39m\u001b[38;5;124m\"\u001b[39m\u001b[38;5;124m'\u001b[39m\u001b[38;5;132;01m{\u001b[39;00mtext\u001b[38;5;132;01m}\u001b[39;00m\u001b[38;5;124m'\u001b[39m\u001b[38;5;124m Sentiment: \u001b[39m\u001b[38;5;132;01m{\u001b[39;00msentiment3\u001b[38;5;132;01m}\u001b[39;00m\u001b[38;5;124m, Scores: \u001b[39m\u001b[38;5;132;01m{\u001b[39;00mscores3\u001b[38;5;132;01m}\u001b[39;00m\u001b[38;5;124m\"\u001b[39m)\n",
      "\u001b[0;31mNameError\u001b[0m: name 'text' is not defined"
     ]
    }
   ],
   "source": [
    "text1 = \"This is a wonderful and amazing day!\"\n",
    "text2 = \"I feel terrible and awful today\"\n",
    "text3 = \"The weather is just okay.\"\n",
    "text4 = \"I am extremely happy about the results they are fantastic!\"\n",
    "text5 = \"This is the worst experience ever.\"\n",
    "\n",
    "\n",
    "sentiment1, scores1 = analyze_sentiment(text1)\n",
    "sentiment2, scores2 = analyze_sentiment(text2)\n",
    "sentiment3, scores3 = analyze_sentiment(text3)\n",
    "\n",
    "print(f\"'{text}' Sentiment: {sentiment1}, Scores: {scores1}\")\n",
    "print(f\"'{text}' Sentiment: {sentiment2}, Scores: {scores2}\")\n",
    "print(f\"'{text}' Sentiment: {sentiment3}, Scores: {scores3}\")\n"
   ]
  }
 ],
 "metadata": {
  "kernelspec": {
   "display_name": "Python [conda env:base] *",
   "language": "python",
   "name": "conda-base-py"
  },
  "language_info": {
   "codemirror_mode": {
    "name": "ipython",
    "version": 3
   },
   "file_extension": ".py",
   "mimetype": "text/x-python",
   "name": "python",
   "nbconvert_exporter": "python",
   "pygments_lexer": "ipython3",
   "version": "3.12.7"
  }
 },
 "nbformat": 4,
 "nbformat_minor": 5
}
