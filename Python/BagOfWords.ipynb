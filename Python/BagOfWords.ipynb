{
 "cells": [
  {
   "cell_type": "code",
   "execution_count": 17,
   "id": "797c3549-af7c-4b7f-9fa6-dfb9f6f08bfd",
   "metadata": {},
   "outputs": [
    {
     "name": "stdout",
     "output_type": "stream",
     "text": [
      "[['python', 'is', 'amazing', 'and', 'fun'], ['python', 'is', 'not', 'just', 'fun', 'but', 'also', 'powerfull'], ['learning', 'python', 'is', 'fun']]\n"
     ]
    }
   ],
   "source": [
    "from collections import defaultdict\n",
    "import string\n",
    "\n",
    "corpus = [\n",
    "    \"Python is amazing and fun\",\n",
    "    \"Python is not just fun but also powerfull\",\n",
    "    \"Learning Python is fun\"\n",
    "]\n",
    "\n",
    "def preprocess(text):\n",
    "    text = text.lower()\n",
    "    text = text.translate(str.maketrans(\"\",\"\", string.punctuation))\n",
    "    tokens = text.split()\n",
    "    return tokens\n",
    "\n",
    "processed_corpus = [preprocess(sentence) for sentence in corpus]\n",
    "print(processed_corpus)"
   ]
  },
  {
   "cell_type": "code",
   "execution_count": 19,
   "id": "b4fca365-be09-4e3d-8913-f7cc0385a89a",
   "metadata": {},
   "outputs": [
    {
     "name": "stdout",
     "output_type": "stream",
     "text": [
      "Vocabulary ['also', 'amazing', 'and', 'but', 'fun', 'is', 'just', 'learning', 'not', 'powerfull', 'python']\n"
     ]
    }
   ],
   "source": [
    "#Build a unique sorted vocabulary\n",
    "\n",
    "vocabulary = set()\n",
    "for sentence in processed_corpus:\n",
    "    vocabulary.update(sentence)\n",
    "\n",
    "vocabulary = sorted(list(vocabulary))\n",
    "print(\"Vocabulary\", vocabulary)"
   ]
  },
  {
   "cell_type": "code",
   "execution_count": 29,
   "id": "81c2b574-f2a2-4928-8e89-1f3ca2a93291",
   "metadata": {},
   "outputs": [
    {
     "name": "stdout",
     "output_type": "stream",
     "text": [
      "Bag of vectors\n",
      "[0, 1, 1, 0, 1, 1, 0, 0, 0, 0, 1]\n",
      "[1, 0, 0, 1, 1, 1, 1, 0, 1, 1, 1]\n",
      "[0, 0, 0, 0, 1, 1, 0, 1, 0, 0, 1]\n"
     ]
    }
   ],
   "source": [
    "#count word frequencies and vectorize\n",
    "\n",
    "def create_bow_vector(sentence, vocab):\n",
    "    vector = [0] * len(vocab)\n",
    "    for word in sentence:\n",
    "        if word in vocab:\n",
    "            idx = vocab.index(word)\n",
    "            vector[idx] += 1\n",
    "\n",
    "    return vector\n",
    "\n",
    "bow_vectors = [create_bow_vector(sentence,  vocabulary) for sentence in processed_corpus]\n",
    "print(\"Bag of vectors\")\n",
    "for vector in bow_vectors:\n",
    "    print(vector)\n",
    "                "
   ]
  },
  {
   "cell_type": "code",
   "execution_count": null,
   "id": "8b6037be-fbc8-4c36-a78b-d4d4c8c97a29",
   "metadata": {},
   "outputs": [],
   "source": []
  }
 ],
 "metadata": {
  "kernelspec": {
   "display_name": "Python [conda env:base] *",
   "language": "python",
   "name": "conda-base-py"
  },
  "language_info": {
   "codemirror_mode": {
    "name": "ipython",
    "version": 3
   },
   "file_extension": ".py",
   "mimetype": "text/x-python",
   "name": "python",
   "nbconvert_exporter": "python",
   "pygments_lexer": "ipython3",
   "version": "3.12.7"
  }
 },
 "nbformat": 4,
 "nbformat_minor": 5
}
