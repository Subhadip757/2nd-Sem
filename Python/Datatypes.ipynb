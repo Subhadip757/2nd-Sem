{
 "cells": [
  {
   "cell_type": "code",
   "execution_count": null,
   "id": "418011f2-3030-45cc-ac8f-e5a2a0ce9621",
   "metadata": {},
   "outputs": [],
   "source": [
    "\"\"\"\n",
    "Text Type: str\n",
    "\n",
    "Numeric Type: int, float, complex\n",
    "\n",
    "Sequence Type: list, tuple, range\n",
    "\n",
    "Mapping Type: dict\n",
    "\n",
    "Set Types: set, frozen set\n",
    "\n",
    "Boolean Type: bool\n",
    "\n",
    "Binary Types: bytes, bytearray, memoryview\n",
    "\n",
    "None Type: NoneType\n",
    "\"\"\""
   ]
  },
  {
   "cell_type": "code",
   "execution_count": 59,
   "id": "1f7c56a9-0757-4f7a-a73e-1ecde120daa1",
   "metadata": {},
   "outputs": [
    {
     "name": "stdout",
     "output_type": "stream",
     "text": [
      "<class 'int'>\n",
      "<class 'float'>\n",
      "<class 'complex'>\n",
      "<class 'list'>\n",
      "<class 'tuple'>\n",
      "<class 'set'>\n",
      "<class 'frozenset'>\n",
      "<class 'bool'>\n",
      "<class 'bytearray'>\n",
      "<class 'memoryview'>\n",
      "<class 'NoneType'>\n",
      "<class 'str'>\n",
      "<class 'int'>\n",
      "<class 'float'>\n",
      "<class 'complex'>\n",
      "<class 'int'>\n"
     ]
    }
   ],
   "source": [
    "num = 5\n",
    "print(type(num))\n",
    "\n",
    "data = 29.5\n",
    "print(type(data))\n",
    "\n",
    "data = 1j\n",
    "print(type(data))\n",
    "\n",
    "data = [\"Apple\", \"Banana\", \"Cherry\"]\n",
    "print(type(data))\n",
    "\n",
    "data = (\"Apple\", \"Banana\", \"Cherry\")\n",
    "print(type(data))\n",
    "\n",
    "data = {\"Apple\", \"Banana\", \"Cherry\"}\n",
    "print(type(data))\n",
    "\n",
    "data = frozenset({\"Apple\", \"Banana\", \"Cherry\"})\n",
    "print(type(data))\n",
    "\n",
    "data = True\n",
    "print(type(data))\n",
    "\n",
    "data = bytearray(5)\n",
    "print(type(data))\n",
    "\n",
    "data = memoryview(bytes(5))\n",
    "print(type(data))\n",
    "\n",
    "data = None\n",
    "print(type(data))\n",
    "\n",
    "data = str(\"Hello World\")\n",
    "print(type(data))\n",
    "\n",
    "data = int(28)\n",
    "print(type(data))\n",
    "\n",
    "data = float(28.6)\n",
    "print(type(data))\n",
    "\n",
    "data = complex(78)\n",
    "print(type(data))\n",
    "\n",
    "data = 9587475304986528075648954390\n",
    "print(type(data))"
   ]
  },
  {
   "cell_type": "code",
   "execution_count": 5,
   "id": "54aa2a7d-cc63-4c21-9b49-cedc100c5ca2",
   "metadata": {},
   "outputs": [
    {
     "name": "stdout",
     "output_type": "stream",
     "text": [
      "Age:  21\n"
     ]
    }
   ],
   "source": [
    "age = 21\n",
    "\n",
    "def func():\n",
    "    print(\"Age: \", age)\n",
    "\n",
    "func()"
   ]
  },
  {
   "cell_type": "code",
   "execution_count": 11,
   "id": "9c43de9c-b972-4a20-9cee-ae5a5fc9d61c",
   "metadata": {},
   "outputs": [
    {
     "name": "stdout",
     "output_type": "stream",
     "text": [
      "Name:  Elvis\n",
      "Name:  Subhadip\n"
     ]
    }
   ],
   "source": [
    "Name = \"Subhadip\"\n",
    "\n",
    "def func():\n",
    "    name = \"Elvis\"\n",
    "    print(\"Name: \", name)\n",
    "\n",
    "func()\n",
    "print(\"Name: \",Name)"
   ]
  },
  {
   "cell_type": "code",
   "execution_count": 19,
   "id": "e96c7bf7-8952-41a1-bca7-e2652dc6f6e1",
   "metadata": {},
   "outputs": [
    {
     "name": "stdout",
     "output_type": "stream",
     "text": [
      "Name:  10\n"
     ]
    }
   ],
   "source": [
    "def func():\n",
    "    global num\n",
    "    num = 10\n",
    "\n",
    "func()\n",
    "print(\"Name: \", num)"
   ]
  },
  {
   "cell_type": "code",
   "execution_count": 21,
   "id": "2181ffd8-4338-40e4-ad3e-835ce8fc8301",
   "metadata": {},
   "outputs": [
    {
     "name": "stdout",
     "output_type": "stream",
     "text": [
      "Name:  10\n"
     ]
    }
   ],
   "source": [
    "num = 20\n",
    "def func():\n",
    "    global num\n",
    "    num = 10\n",
    "\n",
    "func()\n",
    "print(\"Name: \", num)"
   ]
  },
  {
   "cell_type": "code",
   "execution_count": 63,
   "id": "464c322b-f533-4471-9704-2fc2af6054f4",
   "metadata": {},
   "outputs": [
    {
     "name": "stdout",
     "output_type": "stream",
     "text": [
      "<class 'complex'>\n",
      "<class 'complex'>\n",
      "<class 'complex'>\n"
     ]
    }
   ],
   "source": [
    "data = 3 + 5j\n",
    "data2 = 5j\n",
    "data3 = -5j\n",
    "\n",
    "print(type(data))\n",
    "print(type(data2))\n",
    "print(type(data3))"
   ]
  },
  {
   "cell_type": "code",
   "execution_count": 65,
   "id": "3edb7171-5f59-42bd-99f8-d6962805b635",
   "metadata": {},
   "outputs": [
    {
     "name": "stdout",
     "output_type": "stream",
     "text": [
      "1.0\n",
      "2\n",
      "1j\n"
     ]
    }
   ],
   "source": [
    "x = 1\n",
    "y = 2.8\n",
    "z = 1j\n",
    "\n",
    "a = float(x)\n",
    "b = int(y)\n",
    "c = complex(z)\n",
    "\n",
    "print(a)\n",
    "print(b)\n",
    "print(c)"
   ]
  }
 ],
 "metadata": {
  "kernelspec": {
   "display_name": "Python [conda env:base] *",
   "language": "python",
   "name": "conda-base-py"
  },
  "language_info": {
   "codemirror_mode": {
    "name": "ipython",
    "version": 3
   },
   "file_extension": ".py",
   "mimetype": "text/x-python",
   "name": "python",
   "nbconvert_exporter": "python",
   "pygments_lexer": "ipython3",
   "version": "3.12.7"
  }
 },
 "nbformat": 4,
 "nbformat_minor": 5
}
